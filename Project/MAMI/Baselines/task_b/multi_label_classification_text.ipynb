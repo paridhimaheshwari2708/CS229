{
 "cells": [
  {
   "cell_type": "code",
   "execution_count": 197,
   "id": "2b06d395",
   "metadata": {},
   "outputs": [
    {
     "name": "stdout",
     "output_type": "stream",
     "text": [
      "(7000,)\n",
      "(1000,)\n",
      "(7000, 8)\n"
     ]
    }
   ],
   "source": [
    "import os\n",
    "import pandas as pd\n",
    "import nltk\n",
    "import numpy as np\n",
    "from sklearn.feature_extraction.text import CountVectorizer\n",
    "from sklearn.naive_bayes import MultinomialNB\n",
    "from sklearn.pipeline import Pipeline\n",
    "from sklearn.linear_model import SGDClassifier\n",
    "from sklearn.feature_extraction.text import TfidfTransformer\n",
    "from sklearn.metrics import classification_report\n",
    "\n",
    "from nltk.corpus import stopwords\n",
    "stop_words = set(stopwords.words('english'))\n",
    "from sklearn.feature_extraction.text import TfidfVectorizer\n",
    "from sklearn.multiclass import OneVsRestClassifier\n",
    "from sklearn.metrics import accuracy_score\n",
    "from sklearn.svm import LinearSVC\n",
    "from sklearn.linear_model import LogisticRegression\n",
    "\n",
    "import seaborn as sns\n",
    "import matplotlib.pyplot as plt\n",
    "\n",
    "DATA_PATH = '../../Data'\n",
    "\n",
    "csv_path_train = os.path.join(DATA_PATH, 'split_train.csv')\n",
    "csv_path_val = os.path.join(DATA_PATH, 'split_val.csv')\n",
    "csv_path_test = os.path.join(DATA_PATH, 'split_test.csv')\n",
    "\n",
    "image_path = os.path.join(DATA_PATH, 'images')\n",
    "\n",
    "# text_data_column = 'Text Normalized'\n",
    "text_data_column = 'Text Transcription'\n",
    "\n",
    "def read_data_from_csv(path_name):\n",
    "\tdf = pd.read_csv(path_name, usecols=['file_name',text_data_column, 'misogynous', 'shaming','stereotype','objectification','violence'], sep='\\t')\n",
    "\tpath = image_path+'/'\n",
    "\tdf['image_path'] = path + df['file_name']\n",
    "\n",
    "\treturn df\n",
    "\n",
    "## Reading data\n",
    "train_df = read_data_from_csv(csv_path_train)\n",
    "val_df = read_data_from_csv(csv_path_val)\n",
    "test_df = read_data_from_csv(csv_path_test)\n",
    "\n",
    "\n",
    "X_train = train_df[text_data_column]\n",
    "X_test = test_df[text_data_column]\n",
    "print(X_train.shape)\n",
    "print(X_test.shape)\n",
    "\n",
    "print(train_df.shape)\n",
    "# target_names = ['non-misogynistic', 'misogynistic']"
   ]
  },
  {
   "cell_type": "code",
   "execution_count": 149,
   "id": "910dc0e2",
   "metadata": {},
   "outputs": [
    {
     "data": {
      "text/html": [
       "<div>\n",
       "<style scoped>\n",
       "    .dataframe tbody tr th:only-of-type {\n",
       "        vertical-align: middle;\n",
       "    }\n",
       "\n",
       "    .dataframe tbody tr th {\n",
       "        vertical-align: top;\n",
       "    }\n",
       "\n",
       "    .dataframe thead th {\n",
       "        text-align: right;\n",
       "    }\n",
       "</style>\n",
       "<table border=\"1\" class=\"dataframe\">\n",
       "  <thead>\n",
       "    <tr style=\"text-align: right;\">\n",
       "      <th></th>\n",
       "      <th>file_name</th>\n",
       "      <th>misogynous</th>\n",
       "      <th>shaming</th>\n",
       "      <th>stereotype</th>\n",
       "      <th>objectification</th>\n",
       "      <th>violence</th>\n",
       "      <th>Text Normalized</th>\n",
       "      <th>image_path</th>\n",
       "    </tr>\n",
       "  </thead>\n",
       "  <tbody>\n",
       "    <tr>\n",
       "      <th>0</th>\n",
       "      <td>5999.jpg</td>\n",
       "      <td>0</td>\n",
       "      <td>0</td>\n",
       "      <td>0</td>\n",
       "      <td>0</td>\n",
       "      <td>0</td>\n",
       "      <td>oh you re not gay name every women</td>\n",
       "      <td>../../Data/images/5999.jpg</td>\n",
       "    </tr>\n",
       "    <tr>\n",
       "      <th>1</th>\n",
       "      <td>4334.jpg</td>\n",
       "      <td>0</td>\n",
       "      <td>0</td>\n",
       "      <td>0</td>\n",
       "      <td>0</td>\n",
       "      <td>0</td>\n",
       "      <td>when she buys a new toy heinerle knatterwalze ...</td>\n",
       "      <td>../../Data/images/4334.jpg</td>\n",
       "    </tr>\n",
       "    <tr>\n",
       "      <th>2</th>\n",
       "      <td>1294.jpg</td>\n",
       "      <td>0</td>\n",
       "      <td>0</td>\n",
       "      <td>0</td>\n",
       "      <td>0</td>\n",
       "      <td>0</td>\n",
       "      <td>cyberbullying here s one quick solution memesh...</td>\n",
       "      <td>../../Data/images/1294.jpg</td>\n",
       "    </tr>\n",
       "    <tr>\n",
       "      <th>3</th>\n",
       "      <td>4391.jpg</td>\n",
       "      <td>1</td>\n",
       "      <td>0</td>\n",
       "      <td>0</td>\n",
       "      <td>1</td>\n",
       "      <td>0</td>\n",
       "      <td>girlfriend catches you jerking off say thats w...</td>\n",
       "      <td>../../Data/images/4391.jpg</td>\n",
       "    </tr>\n",
       "    <tr>\n",
       "      <th>4</th>\n",
       "      <td>4166.jpg</td>\n",
       "      <td>1</td>\n",
       "      <td>0</td>\n",
       "      <td>0</td>\n",
       "      <td>0</td>\n",
       "      <td>1</td>\n",
       "      <td>chris brown s greatest hits memecenter com mem...</td>\n",
       "      <td>../../Data/images/4166.jpg</td>\n",
       "    </tr>\n",
       "  </tbody>\n",
       "</table>\n",
       "</div>"
      ],
      "text/plain": [
       "  file_name  misogynous  shaming  stereotype  objectification  violence  \\\n",
       "0  5999.jpg           0        0           0                0         0   \n",
       "1  4334.jpg           0        0           0                0         0   \n",
       "2  1294.jpg           0        0           0                0         0   \n",
       "3  4391.jpg           1        0           0                1         0   \n",
       "4  4166.jpg           1        0           0                0         1   \n",
       "\n",
       "                                     Text Normalized  \\\n",
       "0                 oh you re not gay name every women   \n",
       "1  when she buys a new toy heinerle knatterwalze ...   \n",
       "2  cyberbullying here s one quick solution memesh...   \n",
       "3  girlfriend catches you jerking off say thats w...   \n",
       "4  chris brown s greatest hits memecenter com mem...   \n",
       "\n",
       "                   image_path  \n",
       "0  ../../Data/images/5999.jpg  \n",
       "1  ../../Data/images/4334.jpg  \n",
       "2  ../../Data/images/1294.jpg  \n",
       "3  ../../Data/images/4391.jpg  \n",
       "4  ../../Data/images/4166.jpg  "
      ]
     },
     "execution_count": 149,
     "metadata": {},
     "output_type": "execute_result"
    }
   ],
   "source": [
    "train_df.head()"
   ]
  },
  {
   "cell_type": "code",
   "execution_count": 150,
   "id": "80cbbbe9",
   "metadata": {},
   "outputs": [
    {
     "data": {
      "text/html": [
       "<div>\n",
       "<style scoped>\n",
       "    .dataframe tbody tr th:only-of-type {\n",
       "        vertical-align: middle;\n",
       "    }\n",
       "\n",
       "    .dataframe tbody tr th {\n",
       "        vertical-align: top;\n",
       "    }\n",
       "\n",
       "    .dataframe thead th {\n",
       "        text-align: right;\n",
       "    }\n",
       "</style>\n",
       "<table border=\"1\" class=\"dataframe\">\n",
       "  <thead>\n",
       "    <tr style=\"text-align: right;\">\n",
       "      <th></th>\n",
       "      <th>category</th>\n",
       "      <th>number_of_memes</th>\n",
       "    </tr>\n",
       "  </thead>\n",
       "  <tbody>\n",
       "    <tr>\n",
       "      <th>0</th>\n",
       "      <td>misogynous</td>\n",
       "      <td>3488</td>\n",
       "    </tr>\n",
       "    <tr>\n",
       "      <th>1</th>\n",
       "      <td>shaming</td>\n",
       "      <td>909</td>\n",
       "    </tr>\n",
       "    <tr>\n",
       "      <th>2</th>\n",
       "      <td>stereotype</td>\n",
       "      <td>1950</td>\n",
       "    </tr>\n",
       "    <tr>\n",
       "      <th>3</th>\n",
       "      <td>objectification</td>\n",
       "      <td>1538</td>\n",
       "    </tr>\n",
       "    <tr>\n",
       "      <th>4</th>\n",
       "      <td>violence</td>\n",
       "      <td>661</td>\n",
       "    </tr>\n",
       "  </tbody>\n",
       "</table>\n",
       "</div>"
      ],
      "text/plain": [
       "          category  number_of_memes\n",
       "0       misogynous             3488\n",
       "1          shaming              909\n",
       "2       stereotype             1950\n",
       "3  objectification             1538\n",
       "4         violence              661"
      ]
     },
     "execution_count": 150,
     "metadata": {},
     "output_type": "execute_result"
    }
   ],
   "source": [
    "categories = ['misogynous', 'shaming','stereotype','objectification','violence']\n",
    "counts = []\n",
    "for i in categories:\n",
    "    counts.append((i, train_df[i].sum()))\n",
    "df_stats = pd.DataFrame(counts, columns=['category', 'number_of_memes'])\n",
    "df_stats"
   ]
  },
  {
   "cell_type": "code",
   "execution_count": 184,
   "id": "f8847062",
   "metadata": {},
   "outputs": [
    {
     "data": {
      "text/html": [
       "<div>\n",
       "<style scoped>\n",
       "    .dataframe tbody tr th:only-of-type {\n",
       "        vertical-align: middle;\n",
       "    }\n",
       "\n",
       "    .dataframe tbody tr th {\n",
       "        vertical-align: top;\n",
       "    }\n",
       "\n",
       "    .dataframe thead th {\n",
       "        text-align: right;\n",
       "    }\n",
       "</style>\n",
       "<table border=\"1\" class=\"dataframe\">\n",
       "  <thead>\n",
       "    <tr style=\"text-align: right;\">\n",
       "      <th></th>\n",
       "      <th>category</th>\n",
       "      <th>number_of_memes</th>\n",
       "    </tr>\n",
       "  </thead>\n",
       "  <tbody>\n",
       "    <tr>\n",
       "      <th>0</th>\n",
       "      <td>misogynous</td>\n",
       "      <td>1029</td>\n",
       "    </tr>\n",
       "    <tr>\n",
       "      <th>1</th>\n",
       "      <td>shaming</td>\n",
       "      <td>256</td>\n",
       "    </tr>\n",
       "    <tr>\n",
       "      <th>2</th>\n",
       "      <td>stereotype</td>\n",
       "      <td>582</td>\n",
       "    </tr>\n",
       "    <tr>\n",
       "      <th>3</th>\n",
       "      <td>objectification</td>\n",
       "      <td>457</td>\n",
       "    </tr>\n",
       "    <tr>\n",
       "      <th>4</th>\n",
       "      <td>violence</td>\n",
       "      <td>194</td>\n",
       "    </tr>\n",
       "  </tbody>\n",
       "</table>\n",
       "</div>"
      ],
      "text/plain": [
       "          category  number_of_memes\n",
       "0       misogynous             1029\n",
       "1          shaming              256\n",
       "2       stereotype              582\n",
       "3  objectification              457\n",
       "4         violence              194"
      ]
     },
     "execution_count": 184,
     "metadata": {},
     "output_type": "execute_result"
    }
   ],
   "source": [
    "categories = ['misogynous', 'shaming','stereotype','objectification','violence']\n",
    "counts = []\n",
    "for i in categories:\n",
    "    counts.append((i, test_df[i].sum()))\n",
    "df_stats_test = pd.DataFrame(counts, columns=['category', 'number_of_memes'])\n",
    "df_stats_test\n",
    "\n",
    "counts = []\n",
    "for i in categories:\n",
    "    counts.append((i, train_df[i].sum()))\n",
    "df_stats_train = pd.DataFrame(counts, columns=['category', 'number_of_memes'])\n",
    "df_stats_train\n",
    "\n",
    "counts = []\n",
    "for i in categories:\n",
    "    counts.append((i, val_df[i].sum()))\n",
    "df_stats_val = pd.DataFrame(counts, columns=['category', 'number_of_memes'])\n",
    "df_stats_val"
   ]
  },
  {
   "cell_type": "code",
   "execution_count": 173,
   "id": "e3062e04",
   "metadata": {},
   "outputs": [
    {
     "data": {
      "text/plain": [
       "692"
      ]
     },
     "execution_count": 173,
     "metadata": {},
     "output_type": "execute_result"
    }
   ],
   "source": [
    "total = 0\n",
    "for a,b in counts[1:]:\n",
    "    total += b\n",
    "total"
   ]
  },
  {
   "cell_type": "code",
   "execution_count": 174,
   "id": "6595b215",
   "metadata": {},
   "outputs": [],
   "source": [
    "# sub_tdf = train_df[['misogynous', 'shaming','stereotype','objectification','violence']]\n",
    "# pd.DataFrame(sub_tdf.sum(axis=0),)"
   ]
  },
  {
   "cell_type": "code",
   "execution_count": 179,
   "id": "c6ce8b5a",
   "metadata": {},
   "outputs": [
    {
     "data": {
      "text/plain": [
       "Text(0.5,0,'category')"
      ]
     },
     "execution_count": 179,
     "metadata": {},
     "output_type": "execute_result"
    },
    {
     "data": {
      "image/png": "[encoded data removed]",
      "text/plain": [
       "<Figure size 576x360 with 1 Axes>"
      ]
     },
     "metadata": {
      "needs_background": "light"
     },
     "output_type": "display_data"
    }
   ],
   "source": [
    "df_stats_train.plot(x='category', y='number_of_memes', kind='bar', legend=False, grid=True, figsize=(8, 5))\n",
    "# df_stats_test.plot(x='category', y='number_of_memes', kind='bar', legend=False, grid=True, figsize=(8, 5))\n",
    "plt.title(\"Number of Memes per category\")\n",
    "plt.ylabel('# of Occurrences', fontsize=12)\n",
    "plt.xlabel('category', fontsize=12)"
   ]
  },
  {
   "cell_type": "code",
   "execution_count": 200,
   "id": "54b7f5ad",
   "metadata": {},
   "outputs": [
    {
     "data": {
      "image/png": "[encoded data removed]",
      "text/plain": [
       "<Figure size 432x288 with 1 Axes>"
      ]
     },
     "metadata": {
      "needs_background": "light"
     },
     "output_type": "display_data"
    }
   ],
   "source": [
    "labels = categories\n",
    "train_means = df_stats_train['number_of_memes']\n",
    "test_means = df_stats_test['number_of_memes']\n",
    "val_means = df_stats_val['number_of_memes']\n",
    "\n",
    "x = np.arange(len(labels))  # the label locations\n",
    "width = 0.25  # the width of the bars\n",
    "\n",
    "fig, ax = plt.subplots()\n",
    "rects1 = ax.bar(x - width, men_means, width, label='Train')\n",
    "rects2 = ax.bar(x , val_means, width, label='Validation')\n",
    "rects2 = ax.bar(x + width, test_means, width, label='Test')\n",
    "\n",
    "# Add some text for labels, title and custom x-axis tick labels, etc.\n",
    "ax.set_ylabel('# of Memes')\n",
    "ax.set_xlabel('Categories')\n",
    "ax.set_title('Number of memes per category')\n",
    "ax.set_xticks(x)\n",
    "ax.set_xticklabels(labels)\n",
    "ax.legend()\n",
    "\n",
    "fig.tight_layout()\n",
    "\n",
    "plt.savefig('sample.pdf')"
   ]
  },
  {
   "cell_type": "code",
   "execution_count": 202,
   "id": "191d8c5e",
   "metadata": {},
   "outputs": [
    {
     "name": "stderr",
     "output_type": "stream",
     "text": [
      "/Users/srnangi/miniconda3/envs/cs229/lib/python3.6/site-packages/seaborn/_decorators.py:43: FutureWarning: Pass the following variables as keyword args: x, y. From version 0.12, the only valid positional argument will be `data`, and passing other arguments without an explicit keyword will result in an error or misinterpretation.\n",
      "  FutureWarning\n"
     ]
    },
    {
     "data": {
      "image/png": "[encoded data removed]",
      "text/plain": [
       "<Figure size 576x360 with 1 Axes>"
      ]
     },
     "metadata": {
      "needs_background": "light"
     },
     "output_type": "display_data"
    }
   ],
   "source": [
    "csv_path_test = os.path.join(DATA_PATH, 'training.csv')\n",
    "total_df = read_data_from_csv(csv_path_test)\n",
    "sub_tdf = total_df[['misogynous', 'shaming','stereotype','objectification','violence']]\n",
    "rowsums = sub_tdf.sum(axis=1)\n",
    "x=rowsums.value_counts()\n",
    "#plot\n",
    "plt.figure(figsize=(8,5))\n",
    "ax = sns.barplot(x.index, x.values)\n",
    "plt.title(\"Multiple categories per meme\")\n",
    "plt.ylabel('# of Occurrences', fontsize=12)\n",
    "plt.xlabel('# of categories', fontsize=12)\n",
    "\n",
    "plt.savefig(\"img_category.pdf\")"
   ]
  },
  {
   "cell_type": "code",
   "execution_count": 204,
   "id": "8defc7ea",
   "metadata": {},
   "outputs": [
    {
     "data": {
      "text/plain": [
       "0    4996\n",
       "2    2889\n",
       "3    1288\n",
       "4     530\n",
       "1     252\n",
       "5      45\n",
       "dtype: int64"
      ]
     },
     "execution_count": 204,
     "metadata": {},
     "output_type": "execute_result"
    }
   ],
   "source": [
    "x"
   ]
  },
  {
   "cell_type": "code",
   "execution_count": 206,
   "id": "32c05b45",
   "metadata": {},
   "outputs": [
    {
     "data": {
      "text/plain": [
       "4707"
      ]
     },
     "execution_count": 206,
     "metadata": {},
     "output_type": "execute_result"
    }
   ],
   "source": [
    "2889 + 1288 + 530\n"
   ]
  },
  {
   "cell_type": "code",
   "execution_count": 156,
   "id": "4cc97762",
   "metadata": {},
   "outputs": [
    {
     "data": {
      "text/plain": [
       "<matplotlib.axes._subplots.AxesSubplot at 0x7fa3a167a940>"
      ]
     },
     "execution_count": 156,
     "metadata": {},
     "output_type": "execute_result"
    },
    {
     "data": {
      "image/png": "[encoded data removed]",
      "text/plain": [
       "<Figure size 432x288 with 1 Axes>"
      ]
     },
     "metadata": {
      "needs_background": "light"
     },
     "output_type": "display_data"
    }
   ],
   "source": [
    "## Length distribution\n",
    "lens = train_df[text_data_column].str.len()\n",
    "lens.hist(bins = np.arange(0,2000,50))"
   ]
  },
  {
   "cell_type": "code",
   "execution_count": 158,
   "id": "e120a057",
   "metadata": {},
   "outputs": [],
   "source": [
    "NB_pipeline = Pipeline([\n",
    "                ('tfidf', TfidfVectorizer(stop_words=stop_words)),\n",
    "                ('clf', OneVsRestClassifier(MultinomialNB(\n",
    "                    fit_prior=True, class_prior=None))),\n",
    "            ])"
   ]
  },
  {
   "cell_type": "code",
   "execution_count": 162,
   "id": "b271167e",
   "metadata": {},
   "outputs": [
    {
     "name": "stdout",
     "output_type": "stream",
     "text": [
      "... Processing misogynous\n",
      "Test accuracy is 0.802\n",
      "... Processing shaming\n",
      "Test accuracy is 0.891\n",
      "... Processing stereotype\n",
      "Test accuracy is 0.744\n",
      "... Processing objectification\n",
      "Test accuracy is 0.795\n",
      "... Processing violence\n",
      "Test accuracy is 0.902\n"
     ]
    }
   ],
   "source": [
    "prediction_labels = []\n",
    "gt_labels = []\n",
    "accuracy = []\n",
    "for category in categories:\n",
    "    print('... Processing {}'.format(category))\n",
    "    # train the model using X_dtm & y\n",
    "    NB_pipeline.fit(X_train, train_df[category])\n",
    "    # compute the testing accuracy\n",
    "    prediction = NB_pipeline.predict(X_test)\n",
    "#     print(type(prediction))\n",
    "    prediction_labels.append(prediction)\n",
    "    gt_labels.append(test_df[category])\n",
    "    \n",
    "    acc_score = accuracy_score(test_df[category], prediction)\n",
    "    accuracy.append(acc_score)\n",
    "    print('Test accuracy is {}'.format(acc_score))"
   ]
  },
  {
   "cell_type": "code",
   "execution_count": 163,
   "id": "4845da42",
   "metadata": {},
   "outputs": [],
   "source": [
    "pred_format = np.array(prediction_labels).T\n",
    "gt_format = np.array(gt_labels).T"
   ]
  },
  {
   "cell_type": "code",
   "execution_count": 164,
   "id": "54911e67",
   "metadata": {},
   "outputs": [
    {
     "name": "stdout",
     "output_type": "stream",
     "text": [
      "                 precision    recall  f1-score   support\n",
      "\n",
      "     misogynous     0.7778    0.8261    0.8012       483\n",
      "        shaming     0.0000    0.0000    0.0000       109\n",
      "     stereotype     0.8929    0.0899    0.1634       278\n",
      "objectification     1.0000    0.0097    0.0191       207\n",
      "       violence     0.0000    0.0000    0.0000        98\n",
      "\n",
      "      micro avg     0.7845    0.3626    0.4959      1175\n",
      "      macro avg     0.5341    0.1851    0.1967      1175\n",
      "   weighted avg     0.7071    0.3626    0.3714      1175\n",
      "    samples avg     0.3975    0.1900    0.2493      1175\n",
      "\n",
      "Accuracy : 0.8268000000000001\n"
     ]
    },
    {
     "name": "stderr",
     "output_type": "stream",
     "text": [
      "/Users/srnangi/miniconda3/envs/cs229/lib/python3.6/site-packages/sklearn/metrics/_classification.py:1248: UndefinedMetricWarning: Precision and F-score are ill-defined and being set to 0.0 in labels with no predicted samples. Use `zero_division` parameter to control this behavior.\n",
      "  _warn_prf(average, modifier, msg_start, len(result))\n",
      "/Users/srnangi/miniconda3/envs/cs229/lib/python3.6/site-packages/sklearn/metrics/_classification.py:1248: UndefinedMetricWarning: Precision and F-score are ill-defined and being set to 0.0 in samples with no predicted labels. Use `zero_division` parameter to control this behavior.\n",
      "  _warn_prf(average, modifier, msg_start, len(result))\n",
      "/Users/srnangi/miniconda3/envs/cs229/lib/python3.6/site-packages/sklearn/metrics/_classification.py:1248: UndefinedMetricWarning: Recall and F-score are ill-defined and being set to 0.0 in samples with no true labels. Use `zero_division` parameter to control this behavior.\n",
      "  _warn_prf(average, modifier, msg_start, len(result))\n"
     ]
    }
   ],
   "source": [
    "print(classification_report(gt_format, pred_format, target_names=categories, digits=4))\n",
    "print(\"Accuracy : {}\".format(np.mean(accuracy)))"
   ]
  },
  {
   "cell_type": "code",
   "execution_count": 165,
   "id": "bf5b1cb4",
   "metadata": {},
   "outputs": [
    {
     "data": {
      "text/plain": [
       "0.436"
      ]
     },
     "execution_count": 165,
     "metadata": {},
     "output_type": "execute_result"
    }
   ],
   "source": [
    "accuracy_score(gt_format, pred_format)"
   ]
  },
  {
   "cell_type": "code",
   "execution_count": 166,
   "id": "b8e1a5e2",
   "metadata": {},
   "outputs": [
    {
     "name": "stdout",
     "output_type": "stream",
     "text": [
      "... Processing misogynous\n",
      "Test accuracy is 0.793\n",
      "... Processing shaming\n",
      "Test accuracy is 0.892\n",
      "... Processing stereotype\n",
      "Test accuracy is 0.776\n",
      "... Processing objectification\n",
      "Test accuracy is 0.816\n",
      "... Processing violence\n",
      "Test accuracy is 0.912\n"
     ]
    }
   ],
   "source": [
    "SVC_pipeline = Pipeline([\n",
    "                ('tfidf', TfidfVectorizer(stop_words=stop_words)),\n",
    "                ('clf', OneVsRestClassifier(LinearSVC(), n_jobs=1)),\n",
    "            ])\n",
    "prediction_labels = []\n",
    "gt_labels = []\n",
    "accuracy =[]\n",
    "\n",
    "for category in categories:\n",
    "    print('... Processing {}'.format(category))\n",
    "    # train the model using X_dtm & y\n",
    "    SVC_pipeline.fit(X_train, train_df[category])\n",
    "    # compute the testing accuracy\n",
    "    prediction = SVC_pipeline.predict(X_test)\n",
    "    prediction_labels.append(prediction)\n",
    "    gt_labels.append(test_df[category])\n",
    "    \n",
    "    \n",
    "    acc_score = accuracy_score(test_df[category], prediction)\n",
    "    accuracy.append(acc_score)\n",
    "    print('Test accuracy is {}'.format(acc_score))"
   ]
  },
  {
   "cell_type": "code",
   "execution_count": 167,
   "id": "969c4dbd",
   "metadata": {},
   "outputs": [
    {
     "name": "stdout",
     "output_type": "stream",
     "text": [
      "                 precision    recall  f1-score   support\n",
      "\n",
      "     misogynous     0.7805    0.7950    0.7877       483\n",
      "        shaming     0.5085    0.2752    0.3571       109\n",
      "     stereotype     0.6205    0.5000    0.5538       278\n",
      "objectification     0.5839    0.3865    0.4651       207\n",
      "       violence     0.6667    0.2041    0.3125        98\n",
      "\n",
      "      micro avg     0.6932    0.5557    0.6169      1175\n",
      "      macro avg     0.6320    0.4322    0.4952      1175\n",
      "   weighted avg     0.6733    0.5557    0.5959      1175\n",
      "    samples avg     0.3492    0.2813    0.2971      1175\n",
      "\n",
      "Accuracy : 0.8378\n"
     ]
    },
    {
     "name": "stderr",
     "output_type": "stream",
     "text": [
      "/Users/srnangi/miniconda3/envs/cs229/lib/python3.6/site-packages/sklearn/metrics/_classification.py:1248: UndefinedMetricWarning: Precision and F-score are ill-defined and being set to 0.0 in samples with no predicted labels. Use `zero_division` parameter to control this behavior.\n",
      "  _warn_prf(average, modifier, msg_start, len(result))\n",
      "/Users/srnangi/miniconda3/envs/cs229/lib/python3.6/site-packages/sklearn/metrics/_classification.py:1248: UndefinedMetricWarning: Recall and F-score are ill-defined and being set to 0.0 in samples with no true labels. Use `zero_division` parameter to control this behavior.\n",
      "  _warn_prf(average, modifier, msg_start, len(result))\n"
     ]
    }
   ],
   "source": [
    "pred_format = np.array(prediction_labels).T\n",
    "gt_format = np.array(gt_labels).T\n",
    "print(classification_report(gt_format, pred_format, target_names=categories, digits=4))\n",
    "print(\"Accuracy : {}\".format(np.mean(accuracy)))"
   ]
  },
  {
   "cell_type": "code",
   "execution_count": 168,
   "id": "a3ac47ae",
   "metadata": {},
   "outputs": [
    {
     "data": {
      "text/plain": [
       "0.51"
      ]
     },
     "execution_count": 168,
     "metadata": {},
     "output_type": "execute_result"
    }
   ],
   "source": [
    "accuracy_score(gt_format, pred_format)"
   ]
  },
  {
   "cell_type": "code",
   "execution_count": 169,
   "id": "e911c16f",
   "metadata": {},
   "outputs": [
    {
     "name": "stdout",
     "output_type": "stream",
     "text": [
      "... Processing misogynous\n",
      "Test accuracy is 0.801\n",
      "... Processing shaming\n",
      "Test accuracy is 0.9\n",
      "... Processing stereotype\n",
      "Test accuracy is 0.793\n",
      "... Processing objectification\n",
      "Test accuracy is 0.82\n",
      "... Processing violence\n",
      "Test accuracy is 0.907\n"
     ]
    }
   ],
   "source": [
    "LogReg_pipeline = Pipeline([\n",
    "                ('tfidf', TfidfVectorizer(stop_words=stop_words)),\n",
    "                ('clf', OneVsRestClassifier(LogisticRegression(solver='sag'), n_jobs=1)),\n",
    "            ])\n",
    "prediction_labels = []\n",
    "gt_labels = []\n",
    "accuracy = []\n",
    "for category in categories:\n",
    "    print('... Processing {}'.format(category))\n",
    "    # train the model using X_dtm & y\n",
    "    LogReg_pipeline.fit(X_train, train_df[category])\n",
    "    # compute the testing accuracy\n",
    "    prediction = LogReg_pipeline.predict(X_test)\n",
    "    prediction_labels.append(prediction)\n",
    "    gt_labels.append(test_df[category])\n",
    "    \n",
    "    acc_score = accuracy_score(test_df[category], prediction)\n",
    "    accuracy.append(acc_score)\n",
    "    print('Test accuracy is {}'.format(acc_score))"
   ]
  },
  {
   "cell_type": "code",
   "execution_count": 170,
   "id": "6cb3d6ab",
   "metadata": {},
   "outputs": [
    {
     "name": "stdout",
     "output_type": "stream",
     "text": [
      "                 precision    recall  f1-score   support\n",
      "\n",
      "     misogynous     0.8047    0.7764    0.7903       483\n",
      "        shaming     0.8000    0.1101    0.1935       109\n",
      "     stereotype     0.7795    0.3561    0.4889       278\n",
      "objectification     0.7213    0.2126    0.3284       207\n",
      "       violence     1.0000    0.0510    0.0971        98\n",
      "\n",
      "      micro avg     0.7938    0.4553    0.5787      1175\n",
      "      macro avg     0.8211    0.3012    0.3796      1175\n",
      "   weighted avg     0.7999    0.4553    0.5244      1175\n",
      "    samples avg     0.3575    0.2336    0.2694      1175\n",
      "\n",
      "Accuracy : 0.8442000000000001\n"
     ]
    },
    {
     "name": "stderr",
     "output_type": "stream",
     "text": [
      "/Users/srnangi/miniconda3/envs/cs229/lib/python3.6/site-packages/sklearn/metrics/_classification.py:1248: UndefinedMetricWarning: Precision and F-score are ill-defined and being set to 0.0 in samples with no predicted labels. Use `zero_division` parameter to control this behavior.\n",
      "  _warn_prf(average, modifier, msg_start, len(result))\n",
      "/Users/srnangi/miniconda3/envs/cs229/lib/python3.6/site-packages/sklearn/metrics/_classification.py:1248: UndefinedMetricWarning: Recall and F-score are ill-defined and being set to 0.0 in samples with no true labels. Use `zero_division` parameter to control this behavior.\n",
      "  _warn_prf(average, modifier, msg_start, len(result))\n"
     ]
    }
   ],
   "source": [
    "pred_format = np.array(prediction_labels).T\n",
    "gt_format = np.array(gt_labels).T\n",
    "print(classification_report(gt_format, pred_format, target_names=categories, digits=4))\n",
    "print(\"Accuracy : {}\".format(np.mean(accuracy)))"
   ]
  },
  {
   "cell_type": "code",
   "execution_count": 171,
   "id": "91e87414",
   "metadata": {},
   "outputs": [
    {
     "data": {
      "text/plain": [
       "0.517"
      ]
     },
     "execution_count": 171,
     "metadata": {},
     "output_type": "execute_result"
    }
   ],
   "source": [
    "accuracy_score(gt_format, pred_format)"
   ]
  },
  {
   "cell_type": "code",
   "execution_count": null,
   "id": "04f0d5c2",
   "metadata": {},
   "outputs": [],
   "source": []
  }
 ],
 "metadata": {
  "kernelspec": {
   "display_name": "Python 3",
   "language": "python",
   "name": "python3"
  },
  "language_info": {
   "codemirror_mode": {
    "name": "ipython",
    "version": 3
   },
   "file_extension": ".py",
   "mimetype": "text/x-python",
   "name": "python",
   "nbconvert_exporter": "python",
   "pygments_lexer": "ipython3",
   "version": "3.6.6"
  }
 },
 "nbformat": 4,
 "nbformat_minor": 5
}
